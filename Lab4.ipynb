{
 "cells": [
  {
   "cell_type": "code",
   "execution_count": null,
   "id": "52837b4f",
   "metadata": {},
   "outputs": [],
   "source": [
    "def x (u):\n",
    "    for num in range(u,0,-1):\n",
    "        for num2 in range(num,0,-1):\n",
    "            print(num2,end=\" \")\n",
    "        print()\n",
    "\n",
    "x(5)"
   ]
  }
 ],
 "metadata": {
  "kernelspec": {
   "display_name": "Python 3 (ipykernel)",
   "language": "python",
   "name": "python3"
  },
  "language_info": {
   "codemirror_mode": {
    "name": "ipython",
    "version": 3
   },
   "file_extension": ".py",
   "mimetype": "text/x-python",
   "name": "python",
   "nbconvert_exporter": "python",
   "pygments_lexer": "ipython3",
   "version": "3.10.9"
  }
 },
 "nbformat": 4,
 "nbformat_minor": 5
}
